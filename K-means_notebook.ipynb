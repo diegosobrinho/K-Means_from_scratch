{
 "cells": [
  {
   "cell_type": "code",
   "execution_count": 1,
   "id": "71a5f08f",
   "metadata": {},
   "outputs": [],
   "source": [
    "from sklearn.datasets import make_blobs\n",
    "import numpy as np\n",
    "import matplotlib.pyplot as plt"
   ]
  },
  {
   "cell_type": "code",
   "execution_count": 2,
   "id": "58127af0",
   "metadata": {},
   "outputs": [],
   "source": [
    "data,targets = make_blobs(cluster_std=[1.34,1.5,1.5])"
   ]
  },
  {
   "cell_type": "code",
   "execution_count": 5,
   "id": "54d83566",
   "metadata": {},
   "outputs": [
    {
     "data": {
      "image/png": "[encoded data removed]",
      "text/plain": [
       "<Figure size 432x288 with 1 Axes>"
      ]
     },
     "metadata": {
      "needs_background": "light"
     },
     "output_type": "display_data"
    }
   ],
   "source": [
    "datax = [[]for i in range(3)]\n",
    "datay = [[]for i in range(3)]\n",
    "for i,c in zip(range(3),['b','g','r']):\n",
    "    datax[i] = [d[0] for j,d in enumerate(data) if targets[j] == i]\n",
    "    datay[i] = [d[1] for j,d in enumerate(data) if targets[j] == i]\n",
    "    plt.plot(datax[i],datay[i],'o',color=c)\n"
   ]
  },
  {
   "cell_type": "code",
   "execution_count": 6,
   "id": "a7cbb1cd",
   "metadata": {},
   "outputs": [],
   "source": [
    "def clustering1(data,K,tol,means=None): ## K-means algorithm\n",
    "    if means != None:\n",
    "        data_mean_dist = np.array([[np.linalg.norm(d-m) for m in means] for d in data[0]])\n",
    "        data_rele = np.array([[int(d == min(data_mean_dist[i][j])) for j,m in enumerate(means)] \\\n",
    "                     for i,d in enumerate(data[0])]) \n",
    "        means_next = [[] for i in range(len(K))]\n",
    "        for j,m in enumerate(means_next): \n",
    "            m.append(np.dot(data_rele[:,j],data_mean_dist[:,j]))\n",
    "        if np.linalg.norm(means-means_next) > tol:\n",
    "            return means_next\n",
    "        return clustering(data,K,tol,means=means_next)\n",
    "    data_x = [data[0][:,0] for j in range(len(data))]\n",
    "    data_y = [data[0][:,1] for j in range(len(data))]\n",
    "    x_range = (min(data_x),max(data_x))\n",
    "    y_range = (min(data_y),max(data_y))\n",
    "    means = np.random.rand(K,2)*np.array([x_range[1]-x_range[0],y_range[1]-y_range[0]]) - \\\n",
    "                                        np.array([(x_range[0]+x_range[1])/2,(y_range[0]+y_range[1])/2])\n",
    "    return clustering1(data,K,tol,means=means)"
   ]
  },
  {
   "cell_type": "code",
   "execution_count": null,
   "id": "9e72814e",
   "metadata": {},
   "outputs": [],
   "source": []
  },
  {
   "cell_type": "code",
   "execution_count": null,
   "id": "206126b6",
   "metadata": {},
   "outputs": [],
   "source": []
  }
 ],
 "metadata": {
  "kernelspec": {
   "display_name": "Python 3",
   "language": "python",
   "name": "python3"
  },
  "language_info": {
   "codemirror_mode": {
    "name": "ipython",
    "version": 3
   },
   "file_extension": ".py",
   "mimetype": "text/x-python",
   "name": "python",
   "nbconvert_exporter": "python",
   "pygments_lexer": "ipython3",
   "version": "3.8.8"
  }
 },
 "nbformat": 4,
 "nbformat_minor": 5
}
