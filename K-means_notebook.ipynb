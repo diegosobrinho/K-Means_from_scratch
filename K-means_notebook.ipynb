{
 "cells": [
  {
   "cell_type": "code",
   "execution_count": 1,
   "id": "71a5f08f",
   "metadata": {},
   "outputs": [],
   "source": [
    "from sklearn.datasets import make_blobs\n",
    "import numpy as np\n",
    "import matplotlib.pyplot as plt"
   ]
  },
  {
   "cell_type": "code",
   "execution_count": 2,
   "id": "58127af0",
   "metadata": {},
   "outputs": [],
   "source": [
    "data,targets = make_blobs(cluster_std=[1.34,1.5,1.5])"
   ]
  },
  {
   "cell_type": "code",
   "execution_count": 3,
   "id": "54d83566",
   "metadata": {},
   "outputs": [
    {
     "data": {
      "image/png": "[encoded data removed]",
      "text/plain": [
       "<Figure size 432x288 with 1 Axes>"
      ]
     },
     "metadata": {
      "needs_background": "light"
     },
     "output_type": "display_data"
    }
   ],
   "source": [
    "datax = [[]for i in range(3)]\n",
    "datay = [[]for i in range(3)]\n",
    "for i,color in zip(range(3),['b','g','r']):\n",
    "    datax[i] = [d[0] for j,d in enumerate(data) if targets[j] == i]\n",
    "    datay[i] = [d[1] for j,d in enumerate(data) if targets[j] == i]\n",
    "    plt.plot(datax[i],datay[i],'o',color=color)\n"
   ]
  },
  {
   "cell_type": "code",
   "execution_count": 4,
   "id": "64f5b422",
   "metadata": {},
   "outputs": [],
   "source": [
    "def random_means_generate(data,K): # generates K random points to initialize the K-means algorithm\n",
    "    data_x = data[:,0]\n",
    "    data_y = data[:,1]\n",
    "    x_range = (min(data_x),max(data_x))\n",
    "    y_range = (min(data_y),max(data_y))\n",
    "    means = np.random.rand(K,2)*np.array([x_range[1] - x_range[0] , y_range[1] - y_range[0]]) + \\\n",
    "    np.array([x_range[0],y_range[0]])\n",
    "    return means"
   ]
  },
  {
   "cell_type": "code",
   "execution_count": 46,
   "id": "a7cbb1cd",
   "metadata": {},
   "outputs": [],
   "source": [
    "def K_means(data,K,tol=1e-5,means = None):\n",
    "    if np.all(means != None):\n",
    "        data_mean_dist = np.array([[np.linalg.norm(d-m) for m in means] for d in data])\n",
    "        \n",
    "        data_rel = np.array([[int(dist == min(data_mean_dist[i])) for dist in data_mean_dist[i]]\n",
    "        for i,d in enumerate(data)])\n",
    "        \n",
    "        means_total_rel = np.sum(data_rel.T,axis=1)\n",
    "        means_next = [[] for i in range(K)]\n",
    "        for j,m in enumerate(means_next): \n",
    "            means_next[j].append(np.dot(data_rel[:,j],data[:,0])/means_total_rel[j])\n",
    "            means_next[j].append(np.dot(data_rel[:,j],data[:,1])/means_total_rel[j])\n",
    "        means_next = np.array(means_next)\n",
    "        if np.linalg.norm(means-means_next) < tol:\n",
    "            return means_next\n",
    "        else:\n",
    "            return K_means(data,K,tol,means=means_next)\n",
    "    means = random_means_generate(data,K)\n",
    "    return K_means(data,K,tol,means=means)"
   ]
  },
  {
   "cell_type": "code",
   "execution_count": 47,
   "id": "ebc0efd3",
   "metadata": {},
   "outputs": [
    {
     "data": {
      "text/plain": [
       "array([[ 4.77295062, -4.32280421],\n",
       "       [-2.38231789,  5.40814391],\n",
       "       [ 2.19921381,  2.5447045 ]])"
      ]
     },
     "execution_count": 47,
     "metadata": {},
     "output_type": "execute_result"
    }
   ],
   "source": [
    "K_means(data,3)"
   ]
  },
  {
   "cell_type": "code",
   "execution_count": null,
   "id": "57af89fc",
   "metadata": {},
   "outputs": [],
   "source": []
  },
  {
   "cell_type": "code",
   "execution_count": null,
   "id": "468c3424",
   "metadata": {},
   "outputs": [],
   "source": []
  },
  {
   "cell_type": "code",
   "execution_count": null,
   "id": "d69e7769",
   "metadata": {},
   "outputs": [],
   "source": []
  }
 ],
 "metadata": {
  "kernelspec": {
   "display_name": "Python 3",
   "language": "python",
   "name": "python3"
  },
  "language_info": {
   "codemirror_mode": {
    "name": "ipython",
    "version": 3
   },
   "file_extension": ".py",
   "mimetype": "text/x-python",
   "name": "python",
   "nbconvert_exporter": "python",
   "pygments_lexer": "ipython3",
   "version": "3.8.8"
  }
 },
 "nbformat": 4,
 "nbformat_minor": 5
}
